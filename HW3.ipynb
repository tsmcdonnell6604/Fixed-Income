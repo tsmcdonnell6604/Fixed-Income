{
 "cells": [
  {
   "attachments": {},
   "cell_type": "markdown",
   "metadata": {},
   "source": [
    "# HOMEWORK 3"
   ]
  },
  {
   "cell_type": "code",
   "execution_count": 1,
   "metadata": {},
   "outputs": [],
   "source": [
    "import pandas as pd\n",
    "import numpy as np\n",
    "import datetime\n",
    "import warnings\n",
    "\n",
    "from sklearn.linear_model import LinearRegression\n",
    "from scipy.optimize import minimize\n",
    "\n",
    "import matplotlib.pyplot as plt\n",
    "%matplotlib inline\n",
    "plt.rcParams['figure.figsize'] = (12,6)\n",
    "plt.rcParams['font.size'] = 15\n",
    "plt.rcParams['legend.fontsize'] = 13\n",
    "\n",
    "import sys\n",
    "sys.path.insert(0, '../cmds')\n",
    "from treasury_cmds import *"
   ]
  },
  {
   "cell_type": "code",
   "execution_count": 2,
   "metadata": {},
   "outputs": [],
   "source": [
    "USE_PAR_TBOND = False\n",
    "# Set coupon on 30-year T bond to equal Nov 4 YTM\n",
    "# Or stick with the coupon rate in the case, for the Aug 2008 T bond\n",
    "\n",
    "YTM = [0.04193, .0436]\n",
    "\n",
    "if USE_PAR_TBOND:\n",
    "    CPNRATE = [YTM[0], .0436]\n",
    "else:\n",
    "    CPNRATE = [0.0450, .0436]\n",
    "\n",
    "SWAPRATE = [.042560, .0408]\n",
    "\n",
    "TPRICE = 105\n",
    "PAR = 100\n",
    "\n",
    "NOTIONAL = 500e6\n",
    "HAIRCUT = .02\n",
    "\n",
    "DTIME = .5\n",
    "tau0 = 30\n",
    "tau1 = tau0-DTIME"
   ]
  },
  {
   "attachments": {},
   "cell_type": "markdown",
   "metadata": {},
   "source": [
    "1.1)"
   ]
  },
  {
   "cell_type": "code",
   "execution_count": 3,
   "metadata": {},
   "outputs": [
    {
     "data": {
      "text/html": [
       "<style type=\"text/css\">\n",
       "</style>\n",
       "<table id=\"T_bd1ff\">\n",
       "  <thead>\n",
       "    <tr>\n",
       "      <th class=\"blank level0\" >&nbsp;</th>\n",
       "      <th id=\"T_bd1ff_level0_col0\" class=\"col_heading level0 col0\" >Nov 2008</th>\n",
       "      <th id=\"T_bd1ff_level0_col1\" class=\"col_heading level0 col1\" >May 2009</th>\n",
       "    </tr>\n",
       "  </thead>\n",
       "  <tbody>\n",
       "    <tr>\n",
       "      <th id=\"T_bd1ff_level0_row0\" class=\"row_heading level0 row0\" >coupon rate</th>\n",
       "      <td id=\"T_bd1ff_row0_col0\" class=\"data row0 col0\" >4.50%</td>\n",
       "      <td id=\"T_bd1ff_row0_col1\" class=\"data row0 col1\" >4.36%</td>\n",
       "    </tr>\n",
       "    <tr>\n",
       "      <th id=\"T_bd1ff_level0_row1\" class=\"row_heading level0 row1\" >YTM</th>\n",
       "      <td id=\"T_bd1ff_row1_col0\" class=\"data row1 col0\" >4.19%</td>\n",
       "      <td id=\"T_bd1ff_row1_col1\" class=\"data row1 col1\" >4.36%</td>\n",
       "    </tr>\n",
       "    <tr>\n",
       "      <th id=\"T_bd1ff_level0_row2\" class=\"row_heading level0 row2\" >swap rate</th>\n",
       "      <td id=\"T_bd1ff_row2_col0\" class=\"data row2 col0\" >4.26%</td>\n",
       "      <td id=\"T_bd1ff_row2_col1\" class=\"data row2 col1\" >4.08%</td>\n",
       "    </tr>\n",
       "    <tr>\n",
       "      <th id=\"T_bd1ff_level0_row3\" class=\"row_heading level0 row3\" >spread</th>\n",
       "      <td id=\"T_bd1ff_row3_col0\" class=\"data row3 col0\" >nan%</td>\n",
       "      <td id=\"T_bd1ff_row3_col1\" class=\"data row3 col1\" >nan%</td>\n",
       "    </tr>\n",
       "    <tr>\n",
       "      <th id=\"T_bd1ff_level0_row4\" class=\"row_heading level0 row4\" >YTM spread</th>\n",
       "      <td id=\"T_bd1ff_row4_col0\" class=\"data row4 col0\" >0.06%</td>\n",
       "      <td id=\"T_bd1ff_row4_col1\" class=\"data row4 col1\" >-0.28%</td>\n",
       "    </tr>\n",
       "    <tr>\n",
       "      <th id=\"T_bd1ff_level0_row5\" class=\"row_heading level0 row5\" >coupon spread</th>\n",
       "      <td id=\"T_bd1ff_row5_col0\" class=\"data row5 col0\" >-0.24%</td>\n",
       "      <td id=\"T_bd1ff_row5_col1\" class=\"data row5 col1\" >-0.28%</td>\n",
       "    </tr>\n",
       "  </tbody>\n",
       "</table>\n"
      ],
      "text/plain": [
       "<pandas.io.formats.style.Styler at 0x7f9c430e6160>"
      ]
     },
     "execution_count": 3,
     "metadata": {},
     "output_type": "execute_result"
    }
   ],
   "source": [
    "summary = pd.DataFrame(index=['coupon rate','YTM','swap rate','spread'],columns = ['Nov 2008','May 2009'],dtype=float)\n",
    "summary.loc['coupon rate'] = CPNRATE\n",
    "summary.loc['YTM'] = YTM\n",
    "summary.loc['swap rate'] = SWAPRATE\n",
    "summary.loc['YTM spread'] = summary.loc['swap rate'] - summary.loc['YTM']\n",
    "summary.loc['coupon spread'] = summary.loc['swap rate'] - summary.loc['coupon rate']\n",
    "summary.style.format('{:.2%}')"
   ]
  },
  {
   "cell_type": "code",
   "execution_count": 4,
   "metadata": {},
   "outputs": [
    {
     "data": {
      "text/html": [
       "<style type=\"text/css\">\n",
       "</style>\n",
       "<table id=\"T_c7635\">\n",
       "  <thead>\n",
       "    <tr>\n",
       "      <th class=\"blank level0\" >&nbsp;</th>\n",
       "      <th id=\"T_c7635_level0_col0\" class=\"col_heading level0 col0\" >May 2009</th>\n",
       "    </tr>\n",
       "  </thead>\n",
       "  <tbody>\n",
       "    <tr>\n",
       "      <th id=\"T_c7635_level0_row0\" class=\"row_heading level0 row0\" >T bond</th>\n",
       "      <td id=\"T_c7635_row0_col0\" class=\"data row0 col0\" >$2.25</td>\n",
       "    </tr>\n",
       "    <tr>\n",
       "      <th id=\"T_c7635_level0_row1\" class=\"row_heading level0 row1\" >Repo</th>\n",
       "      <td id=\"T_c7635_row1_col0\" class=\"data row1 col0\" >$nan</td>\n",
       "    </tr>\n",
       "    <tr>\n",
       "      <th id=\"T_c7635_level0_row2\" class=\"row_heading level0 row2\" >Swap (floating leg)</th>\n",
       "      <td id=\"T_c7635_row2_col0\" class=\"data row2 col0\" >$nan</td>\n",
       "    </tr>\n",
       "    <tr>\n",
       "      <th id=\"T_c7635_level0_row3\" class=\"row_heading level0 row3\" >Swap (fixed leg)</th>\n",
       "      <td id=\"T_c7635_row3_col0\" class=\"data row3 col0\" >$-2.13</td>\n",
       "    </tr>\n",
       "    <tr>\n",
       "      <th id=\"T_c7635_level0_row4\" class=\"row_heading level0 row4\" >Net Payment</th>\n",
       "      <td id=\"T_c7635_row4_col0\" class=\"data row4 col0\" >$0.12</td>\n",
       "    </tr>\n",
       "  </tbody>\n",
       "</table>\n"
      ],
      "text/plain": [
       "<pandas.io.formats.style.Styler at 0x7f9c604c9c10>"
      ]
     },
     "execution_count": 4,
     "metadata": {},
     "output_type": "execute_result"
    }
   ],
   "source": [
    "SOFR = np.nan\n",
    "CF = pd.DataFrame(index=['T bond','Repo','Swap (floating leg)','Swap (fixed leg)'],columns=['May 2009'],dtype=float)\n",
    "CF.loc['Repo'] -SOFR\n",
    "CF.loc['Swap (floating leg)'] = SOFR\n",
    "CF.loc[['T bond']] = PAR * CPNRATE[0] /2\n",
    "CF.loc[['Swap (fixed leg)']] = -PAR * SWAPRATE[0]/2\n",
    "CF.loc['Net Payment'] = CF.sum(axis=0)\n",
    "CF.style.format('${:,.2f}')"
   ]
  },
  {
   "cell_type": "code",
   "execution_count": 5,
   "metadata": {},
   "outputs": [],
   "source": [
    "def duration_closed_formula(tau, ytm, cpnrate=None, freq=2):\n",
    "\n",
    "    if cpnrate is None:\n",
    "        cpnrate = ytm\n",
    "        \n",
    "    y = ytm/freq\n",
    "    c = cpnrate/freq\n",
    "    T = tau * freq\n",
    "        \n",
    "    if cpnrate==ytm:\n",
    "        duration = (1+y)/y  * (1 - 1/(1+y)**T)\n",
    "        \n",
    "    else:\n",
    "        duration = (1+y)/y - (1+y+T*(c-y)) / (c*((1+y)**T-1)+y)\n",
    "\n",
    "    duration /= freq\n",
    "    \n",
    "    return duration"
   ]
  },
  {
   "cell_type": "code",
   "execution_count": 6,
   "metadata": {},
   "outputs": [
    {
     "data": {
      "text/html": [
       "<div>\n",
       "<style scoped>\n",
       "    .dataframe tbody tr th:only-of-type {\n",
       "        vertical-align: middle;\n",
       "    }\n",
       "\n",
       "    .dataframe tbody tr th {\n",
       "        vertical-align: top;\n",
       "    }\n",
       "\n",
       "    .dataframe thead th {\n",
       "        text-align: right;\n",
       "    }\n",
       "</style>\n",
       "<table border=\"1\" class=\"dataframe\">\n",
       "  <thead>\n",
       "    <tr style=\"text-align: right;\">\n",
       "      <th></th>\n",
       "      <th>duration</th>\n",
       "      <th>dollar duration</th>\n",
       "    </tr>\n",
       "  </thead>\n",
       "  <tbody>\n",
       "    <tr>\n",
       "      <th>T bond</th>\n",
       "      <td>17.083633</td>\n",
       "      <td>1793.781472</td>\n",
       "    </tr>\n",
       "    <tr>\n",
       "      <th>fixed leg</th>\n",
       "      <td>17.212744</td>\n",
       "      <td>1721.274445</td>\n",
       "    </tr>\n",
       "    <tr>\n",
       "      <th>floating leg</th>\n",
       "      <td>0.500000</td>\n",
       "      <td>50.000000</td>\n",
       "    </tr>\n",
       "    <tr>\n",
       "      <th>swap</th>\n",
       "      <td>16.712744</td>\n",
       "      <td>1671.274445</td>\n",
       "    </tr>\n",
       "    <tr>\n",
       "      <th>net</th>\n",
       "      <td>0.370889</td>\n",
       "      <td>122.507027</td>\n",
       "    </tr>\n",
       "  </tbody>\n",
       "</table>\n",
       "</div>"
      ],
      "text/plain": [
       "               duration  dollar duration\n",
       "T bond        17.083633      1793.781472\n",
       "fixed leg     17.212744      1721.274445\n",
       "floating leg   0.500000        50.000000\n",
       "swap          16.712744      1671.274445\n",
       "net            0.370889       122.507027"
      ]
     },
     "execution_count": 6,
     "metadata": {},
     "output_type": "execute_result"
    }
   ],
   "source": [
    "tab_duration = pd.DataFrame(dtype=float, index=['T bond','fixed leg', 'floating leg'], columns=['duration'])\n",
    "tab_duration.loc['T bond'] = duration_closed_formula(30, summary.loc['YTM','Nov 2008'], summary.loc['coupon rate','Nov 2008'])\n",
    "tab_duration.loc['fixed leg'] = duration_closed_formula(30, summary.loc['swap rate','Nov 2008'])\n",
    "tab_duration.loc['floating leg'] = .5\n",
    "\n",
    "tab_duration['dollar duration'] = tab_duration['duration'] * np.array([TPRICE, PAR, PAR])\n",
    "\n",
    "tab_duration.loc['swap'] = tab_duration.loc['fixed leg'] - tab_duration.loc['floating leg']\n",
    "\n",
    "tab_duration.loc['net'] = tab_duration.loc['T bond'] - tab_duration.loc['swap']\n",
    "\n",
    "tab_duration"
   ]
  },
  {
   "attachments": {},
   "cell_type": "markdown",
   "metadata": {},
   "source": [
    "1.3)"
   ]
  },
  {
   "cell_type": "code",
   "execution_count": 7,
   "metadata": {},
   "outputs": [
    {
     "data": {
      "text/html": [
       "<div>\n",
       "<style scoped>\n",
       "    .dataframe tbody tr th:only-of-type {\n",
       "        vertical-align: middle;\n",
       "    }\n",
       "\n",
       "    .dataframe tbody tr th {\n",
       "        vertical-align: top;\n",
       "    }\n",
       "\n",
       "    .dataframe thead th {\n",
       "        text-align: right;\n",
       "    }\n",
       "</style>\n",
       "<table border=\"1\" class=\"dataframe\">\n",
       "  <thead>\n",
       "    <tr style=\"text-align: right;\">\n",
       "      <th></th>\n",
       "      <th>positions</th>\n",
       "    </tr>\n",
       "  </thead>\n",
       "  <tbody>\n",
       "    <tr>\n",
       "      <th>T bond</th>\n",
       "      <td>4.436689e+06</td>\n",
       "    </tr>\n",
       "    <tr>\n",
       "      <th>swap</th>\n",
       "      <td>-5.000000e+06</td>\n",
       "    </tr>\n",
       "  </tbody>\n",
       "</table>\n",
       "</div>"
      ],
      "text/plain": [
       "           positions\n",
       "T bond  4.436689e+06\n",
       "swap   -5.000000e+06"
      ]
     },
     "execution_count": 7,
     "metadata": {},
     "output_type": "execute_result"
    }
   ],
   "source": [
    "hedge_ratio = tab_duration.loc['swap','dollar duration'] / tab_duration.loc['T bond','dollar duration']\n",
    "contracts = pd.DataFrame(NOTIONAL * np.array([hedge_ratio /TPRICE, -1/PAR]), index=['T bond','swap'], columns=['positions'])\n",
    "contracts"
   ]
  },
  {
   "attachments": {},
   "cell_type": "markdown",
   "metadata": {},
   "source": [
    "1.4)"
   ]
  },
  {
   "attachments": {},
   "cell_type": "markdown",
   "metadata": {},
   "source": [
    "The rising YTM on the T bond suggests...\n",
    "\n",
    "lower (adjusted) price for the T-bond.\n",
    "we are long the T-bond, so this would be a loss.\n",
    "The lower swap rate suggests...\n",
    "\n",
    "higher value on the fixed leg of a swap.\n",
    "we are paying fixed, (ie short the fixed leg), so this would again be a loss.\n",
    "The floating leg of the swap and repo rate cancel"
   ]
  },
  {
   "attachments": {},
   "cell_type": "markdown",
   "metadata": {},
   "source": [
    "1.5)"
   ]
  },
  {
   "cell_type": "code",
   "execution_count": 8,
   "metadata": {},
   "outputs": [],
   "source": [
    "def price_treasury_ytm(time_to_maturity, ytm, cpn_rate,freq=2,face=100):\n",
    "    c = cpn_rate/freq\n",
    "    y = ytm/freq\n",
    "    \n",
    "    tau = round(time_to_maturity * freq)\n",
    "    \n",
    "    pv = 0\n",
    "    for i in range(1,tau):\n",
    "        pv += 1 / (1+y)**i\n",
    "    \n",
    "    pv = c*pv + (1+c)/(1+y)**tau\n",
    "    pv *= face\n",
    "    \n",
    "    return pv"
   ]
  },
  {
   "cell_type": "code",
   "execution_count": 9,
   "metadata": {},
   "outputs": [
    {
     "data": {
      "text/html": [
       "<style type=\"text/css\">\n",
       "</style>\n",
       "<table id=\"T_a7283\">\n",
       "  <thead>\n",
       "    <tr>\n",
       "      <th class=\"blank level0\" >&nbsp;</th>\n",
       "      <th id=\"T_a7283_level0_col0\" class=\"col_heading level0 col0\" >Nov 2008</th>\n",
       "      <th id=\"T_a7283_level0_col1\" class=\"col_heading level0 col1\" >May 2009</th>\n",
       "    </tr>\n",
       "  </thead>\n",
       "  <tbody>\n",
       "    <tr>\n",
       "      <th id=\"T_a7283_level0_row0\" class=\"row_heading level0 row0\" >T bond</th>\n",
       "      <td id=\"T_a7283_row0_col0\" class=\"data row0 col0\" >$105.00</td>\n",
       "      <td id=\"T_a7283_row0_col1\" class=\"data row0 col1\" >$102.31</td>\n",
       "    </tr>\n",
       "    <tr>\n",
       "      <th id=\"T_a7283_level0_row1\" class=\"row_heading level0 row1\" >swap</th>\n",
       "      <td id=\"T_a7283_row1_col0\" class=\"data row1 col0\" >$0.00</td>\n",
       "      <td id=\"T_a7283_row1_col1\" class=\"data row1 col1\" >$3.00</td>\n",
       "    </tr>\n",
       "  </tbody>\n",
       "</table>\n"
      ],
      "text/plain": [
       "<pandas.io.formats.style.Styler at 0x7f9c43200f40>"
      ]
     },
     "execution_count": 9,
     "metadata": {},
     "output_type": "execute_result"
    }
   ],
   "source": [
    "prices = pd.DataFrame(index=['T bond', 'swap'],dtype=float,columns=['Nov 2008'])\n",
    "\n",
    "if USE_PAR_TBOND:\n",
    "    prices.loc['T bond','Nov 2008'] = price_treasury_ytm(tau0, summary.loc['YTM','Nov 2008'], summary.loc['coupon rate','Nov 2008'])\n",
    "else:\n",
    "    prices.loc['T bond','Nov 2008'] = TPRICE\n",
    "\n",
    "prices.loc['swap','Nov 2008'] = PAR - PAR\n",
    "\n",
    "prices.loc['T bond','May 2009'] = price_treasury_ytm(tau1, summary.loc['YTM','May 2009'], summary.loc['coupon rate','Nov 2008'])\n",
    "prices.loc['swap','May 2009'] = price_treasury_ytm(tau1, summary.loc['swap rate','May 2009'], summary.loc['swap rate','Nov 2008']) - PAR\n",
    "\n",
    "prices.style.format('${:,.2f}')"
   ]
  },
  {
   "attachments": {},
   "cell_type": "markdown",
   "metadata": {},
   "source": [
    "1.6)"
   ]
  },
  {
   "cell_type": "code",
   "execution_count": 11,
   "metadata": {},
   "outputs": [
    {
     "data": {
      "text/html": [
       "<style type=\"text/css\">\n",
       "</style>\n",
       "<table id=\"T_94c1a\">\n",
       "  <thead>\n",
       "    <tr>\n",
       "      <th class=\"blank level0\" >&nbsp;</th>\n",
       "      <th id=\"T_94c1a_level0_col0\" class=\"col_heading level0 col0\" >cashflow</th>\n",
       "      <th id=\"T_94c1a_level0_col1\" class=\"col_heading level0 col1\" >capital gains</th>\n",
       "      <th id=\"T_94c1a_level0_col2\" class=\"col_heading level0 col2\" >total</th>\n",
       "    </tr>\n",
       "  </thead>\n",
       "  <tbody>\n",
       "    <tr>\n",
       "      <th id=\"T_94c1a_level0_row0\" class=\"row_heading level0 row0\" >T bond</th>\n",
       "      <td id=\"T_94c1a_row0_col0\" class=\"data row0 col0\" >$9,982,549.26</td>\n",
       "      <td id=\"T_94c1a_row0_col1\" class=\"data row0 col1\" >$-11,928,477.82</td>\n",
       "      <td id=\"T_94c1a_row0_col2\" class=\"data row0 col2\" >$-1,945,928.55</td>\n",
       "    </tr>\n",
       "    <tr>\n",
       "      <th id=\"T_94c1a_level0_row1\" class=\"row_heading level0 row1\" >swap</th>\n",
       "      <td id=\"T_94c1a_row1_col0\" class=\"data row1 col0\" >$-10,640,000.00</td>\n",
       "      <td id=\"T_94c1a_row1_col1\" class=\"data row1 col1\" >$-15,016,747.03</td>\n",
       "      <td id=\"T_94c1a_row1_col2\" class=\"data row1 col2\" >$-25,656,747.03</td>\n",
       "    </tr>\n",
       "    <tr>\n",
       "      <th id=\"T_94c1a_level0_row2\" class=\"row_heading level0 row2\" >net</th>\n",
       "      <td id=\"T_94c1a_row2_col0\" class=\"data row2 col0\" >$-657,450.74</td>\n",
       "      <td id=\"T_94c1a_row2_col1\" class=\"data row2 col1\" >$-26,945,224.84</td>\n",
       "      <td id=\"T_94c1a_row2_col2\" class=\"data row2 col2\" >$-27,602,675.58</td>\n",
       "    </tr>\n",
       "  </tbody>\n",
       "</table>\n"
      ],
      "text/plain": [
       "<pandas.io.formats.style.Styler at 0x7f9c604bb3a0>"
      ]
     },
     "execution_count": 11,
     "metadata": {},
     "output_type": "execute_result"
    }
   ],
   "source": [
    "pnl=pd.DataFrame(dtype=float,index=['T bond','swap'],columns=['cashflow'])\n",
    "\n",
    "pnl['cashflow'] = CF.loc[['T bond','Swap (fixed leg)']].values * contracts.abs().values\n",
    "pnl['capital gains'] = prices.diff(axis=1)['May 2009'].values * contracts.values[:,0]\n",
    "\n",
    "pnl.loc['net'] = pnl.sum()\n",
    "\n",
    "pnl['total'] = pnl.sum(axis=1)\n",
    "\n",
    "pnl.style.format('${:,.2f}',na_rep='')"
   ]
  },
  {
   "cell_type": "code",
   "execution_count": 12,
   "metadata": {},
   "outputs": [
    {
     "data": {
      "text/html": [
       "<style type=\"text/css\">\n",
       "</style>\n",
       "<table id=\"T_00a0e\">\n",
       "  <thead>\n",
       "    <tr>\n",
       "      <th class=\"blank level0\" >&nbsp;</th>\n",
       "      <th id=\"T_00a0e_level0_col0\" class=\"col_heading level0 col0\" >assets</th>\n",
       "      <th id=\"T_00a0e_level0_col1\" class=\"col_heading level0 col1\" >equity</th>\n",
       "      <th id=\"T_00a0e_level0_col2\" class=\"col_heading level0 col2\" >pnl</th>\n",
       "      <th id=\"T_00a0e_level0_col3\" class=\"col_heading level0 col3\" >return</th>\n",
       "    </tr>\n",
       "  </thead>\n",
       "  <tbody>\n",
       "    <tr>\n",
       "      <th id=\"T_00a0e_level0_row0\" class=\"row_heading level0 row0\" >T bond</th>\n",
       "      <td id=\"T_00a0e_row0_col0\" class=\"data row0 col0\" >$465,852,298.97</td>\n",
       "      <td id=\"T_00a0e_row0_col1\" class=\"data row0 col1\" >$9,317,045.98</td>\n",
       "      <td id=\"T_00a0e_row0_col2\" class=\"data row0 col2\" >$-1,945,928.55</td>\n",
       "      <td id=\"T_00a0e_row0_col3\" class=\"data row0 col3\" ></td>\n",
       "    </tr>\n",
       "    <tr>\n",
       "      <th id=\"T_00a0e_level0_row1\" class=\"row_heading level0 row1\" >swap</th>\n",
       "      <td id=\"T_00a0e_row1_col0\" class=\"data row1 col0\" >$-0.00</td>\n",
       "      <td id=\"T_00a0e_row1_col1\" class=\"data row1 col1\" >$-0.00</td>\n",
       "      <td id=\"T_00a0e_row1_col2\" class=\"data row1 col2\" >$-25,656,747.03</td>\n",
       "      <td id=\"T_00a0e_row1_col3\" class=\"data row1 col3\" ></td>\n",
       "    </tr>\n",
       "    <tr>\n",
       "      <th id=\"T_00a0e_level0_row2\" class=\"row_heading level0 row2\" >net</th>\n",
       "      <td id=\"T_00a0e_row2_col0\" class=\"data row2 col0\" >$465,852,298.97</td>\n",
       "      <td id=\"T_00a0e_row2_col1\" class=\"data row2 col1\" >$9,317,045.98</td>\n",
       "      <td id=\"T_00a0e_row2_col2\" class=\"data row2 col2\" >$-27,602,675.58</td>\n",
       "      <td id=\"T_00a0e_row2_col3\" class=\"data row2 col3\" >-296.26%</td>\n",
       "    </tr>\n",
       "  </tbody>\n",
       "</table>\n"
      ],
      "text/plain": [
       "<pandas.io.formats.style.Styler at 0x7f9c43206af0>"
      ]
     },
     "execution_count": 12,
     "metadata": {},
     "output_type": "execute_result"
    }
   ],
   "source": [
    "capital = pd.DataFrame(prices.iloc[:,0].values * contracts.values[:,0], index=['T bond','swap'],columns=['assets'])\n",
    "capital['equity'] = capital['assets'] * HAIRCUT\n",
    "capital.loc['net'] = capital.sum()\n",
    "\n",
    "capital['pnl'] = pnl['total']\n",
    "capital['return'] = capital['pnl']/capital['equity']\n",
    "capital.loc[['T bond','swap'],'return'] = np.nan\n",
    "\n",
    "capital.style.format({'assets':'${:,.2f}','equity':'${:,.2f}','pnl':'${:,.2f}','return':'{:.2%}'},na_rep='')"
   ]
  }
 ],
 "metadata": {
  "kernelspec": {
   "display_name": "Python 3",
   "language": "python",
   "name": "python3"
  },
  "language_info": {
   "codemirror_mode": {
    "name": "ipython",
    "version": 3
   },
   "file_extension": ".py",
   "mimetype": "text/x-python",
   "name": "python",
   "nbconvert_exporter": "python",
   "pygments_lexer": "ipython3",
   "version": "3.9.5"
  },
  "orig_nbformat": 4,
  "vscode": {
   "interpreter": {
    "hash": "aee8b7b246df8f9039afb4144a1f6fd8d2ca17a180786b69acc140d282b71a49"
   }
  }
 },
 "nbformat": 4,
 "nbformat_minor": 2
}
